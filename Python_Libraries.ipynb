{
 "cells": [
  {
   "cell_type": "markdown",
   "id": "4edd9ef6",
   "metadata": {
    "deletable": false,
    "editable": false,
    "nbgrader": {
     "cell_type": "markdown",
     "checksum": "d6e5adc30889334a5759d59e81f05081",
     "grade": false,
     "grade_id": "cell-6b872878cb1c65a5",
     "locked": true,
     "schema_version": 3,
     "solution": false,
     "task": false
    }
   },
   "source": [
    "### Instructions\n",
    "\n",
    "* Sign up for the free course on Educative, __Learn Python 3 From Scratch__\n",
    "* https://www.educative.io/courses/learn-python-3-from-scratch\n",
    "* Complete the programming exercises below as you go through the course.\n",
    "* Delete or comment out the line of code in each cell which says `raise NotImplementedError()` and replace it with your own."
   ]
  },
  {
   "cell_type": "markdown",
   "id": "38089d4c",
   "metadata": {
    "deletable": false,
    "editable": false,
    "nbgrader": {
     "cell_type": "markdown",
     "checksum": "d3d877524bea85b46023332eca15b049",
     "grade": false,
     "grade_id": "cell-21a783646adf08b9",
     "locked": true,
     "schema_version": 3,
     "solution": false,
     "task": false
    }
   },
   "source": [
    "# Educative - Libraries\n",
    "\n",
    "https://www.educative.io/courses/learn-python-3-from-scratch/RLQYXWpMZvO"
   ]
  },
  {
   "cell_type": "markdown",
   "id": "7eade948",
   "metadata": {
    "deletable": false,
    "editable": false,
    "nbgrader": {
     "cell_type": "markdown",
     "checksum": "35d8256bc9e5bb587fe94afe6f10e247",
     "grade": false,
     "grade_id": "cell-8c7c44d0e09b8ea2",
     "locked": true,
     "schema_version": 3,
     "solution": false,
     "task": false
    }
   },
   "source": [
    "### Exercises"
   ]
  },
  {
   "cell_type": "markdown",
   "id": "819c34c2",
   "metadata": {
    "deletable": false,
    "editable": false,
    "nbgrader": {
     "cell_type": "markdown",
     "checksum": "40cddd34bf9988432ef8c7140b9f8b1d",
     "grade": false,
     "grade_id": "cell-d27e3a7608b4decc",
     "locked": true,
     "schema_version": 3,
     "solution": false,
     "task": false
    }
   },
   "source": [
    "Write code in the cell below.\n",
    "* Import the datetime module.\n",
    "* Create a variable called `date_today` and assign it the current date.\n",
    "* Print `date_today`\n",
    "* Create a variable called `time_today` and assign it the current time with the format `%H:%M:%S`.\n",
    "* Print `time_today`"
   ]
  },
  {
   "cell_type": "code",
   "execution_count": 1,
   "id": "865fa4ed",
   "metadata": {
    "deletable": false,
    "nbgrader": {
     "cell_type": "code",
     "checksum": "f66c9adcdb6b26681ab80dbd01e72b6e",
     "grade": true,
     "grade_id": "cell-d8bc547ac57a0414",
     "locked": false,
     "points": 1,
     "schema_version": 3,
     "solution": true,
     "task": false
    }
   },
   "outputs": [
    {
     "name": "stdout",
     "output_type": "stream",
     "text": [
      "2022-09-20\n",
      "22:49:31\n"
     ]
    }
   ],
   "source": [
    "# Importing modules at the beginning of the program is a good practice\n",
    "\n",
    "# YOUR CODE HERE\n",
    "import datetime\n",
    "\n",
    "date_today = datetime.date.today()  \n",
    "print(date_today)\n",
    "\n",
    "time_today = datetime.datetime.now()\n",
    "print(time_today.strftime(\"%H:%M:%S\"))  "
   ]
  },
  {
   "cell_type": "markdown",
   "id": "cc1e54d0",
   "metadata": {
    "deletable": false,
    "editable": false,
    "nbgrader": {
     "cell_type": "markdown",
     "checksum": "0023e1fe470fd9280f7012d012586552",
     "grade": false,
     "grade_id": "cell-542a79009ba51d21",
     "locked": true,
     "schema_version": 3,
     "solution": false,
     "task": false
    }
   },
   "source": [
    "Write code in the cell below.\n",
    "* Import the date class from the datetime module.\n",
    "* Using the date class, create a variable called `date_today` and assign it the current date.\n",
    "* Print `date_today`"
   ]
  },
  {
   "cell_type": "code",
   "execution_count": 2,
   "id": "c7edc1db",
   "metadata": {
    "deletable": false,
    "nbgrader": {
     "cell_type": "code",
     "checksum": "7dc84c26eba2291718c34d26f7585e23",
     "grade": true,
     "grade_id": "cell-28bc4e662db73470",
     "locked": false,
     "points": 1,
     "schema_version": 3,
     "solution": true,
     "task": false
    }
   },
   "outputs": [
    {
     "name": "stdout",
     "output_type": "stream",
     "text": [
      "2022-09-20\n"
     ]
    }
   ],
   "source": [
    "\n",
    "# YOUR CODE HERE\n",
    "from datetime import date\n",
    "\n",
    "date_today = date.today()\n",
    "print(date_today)"
   ]
  },
  {
   "cell_type": "markdown",
   "id": "21b160fc",
   "metadata": {
    "deletable": false,
    "editable": false,
    "nbgrader": {
     "cell_type": "markdown",
     "checksum": "c619f7b99985acb2e02380b1539390d0",
     "grade": false,
     "grade_id": "cell-2916b0d70098ba84",
     "locked": true,
     "schema_version": 3,
     "solution": false,
     "task": false
    }
   },
   "source": [
    "Write code in the cell below.\n",
    "* Import the datetime module and name it `dt`.\n",
    "* Create a variable called `date_today` and assign it the current date.\n",
    "* Print `date_today`\n",
    "* Create a variable called `time_today` and assign it the current time with the format `%H:%M:%S`.\n",
    "* Print `time_today`"
   ]
  },
  {
   "cell_type": "code",
   "execution_count": 3,
   "id": "acdeb327",
   "metadata": {
    "deletable": false,
    "nbgrader": {
     "cell_type": "code",
     "checksum": "c8992ce346fb1715564d8bf3aa53e7fc",
     "grade": true,
     "grade_id": "cell-0a0222e82974cc6d",
     "locked": false,
     "points": 1,
     "schema_version": 3,
     "solution": true,
     "task": false
    }
   },
   "outputs": [
    {
     "name": "stdout",
     "output_type": "stream",
     "text": [
      "2022-09-20\n",
      "22:56:36\n"
     ]
    }
   ],
   "source": [
    "\n",
    "# YOUR CODE HERE\n",
    "import datetime as dt\n",
    "\n",
    "date_today = dt.date.today() \n",
    "print(date_today)\n",
    "\n",
    "time_today = dt.datetime.now()\n",
    "print(time_today.strftime(\"%H:%M:%S\"))"
   ]
  },
  {
   "cell_type": "markdown",
   "id": "59c11dff",
   "metadata": {
    "deletable": false,
    "editable": false,
    "nbgrader": {
     "cell_type": "markdown",
     "checksum": "8f6e9f58ba72898cb06ca76505acd139",
     "grade": false,
     "grade_id": "cell-b0fb313c0e670468",
     "locked": true,
     "schema_version": 3,
     "solution": false,
     "task": false
    }
   },
   "source": [
    "Google the term `python standard library` to find the latest documentation on the Python Standard Library. Provide a short description of the purpose of some of the common modules listed below. (The short description on the main documentation page for the Python Standard Library is sufficient. I'm only trying to introduce you to the standard library and where you can find additional information on particular modules. You don't need to do any further reading for now.)\n",
    "\n",
    "* csv -\n",
    "* datetime -\n",
    "* math -\n",
    "* os -\n",
    "* re -\n",
    "* string -\n",
    "* unittest -"
   ]
  },
  {
   "cell_type": "markdown",
   "id": "a55f7bc3",
   "metadata": {
    "deletable": false,
    "nbgrader": {
     "cell_type": "markdown",
     "checksum": "7629b21d87d429c896a6f67fafaaf672",
     "grade": true,
     "grade_id": "cell-dbe058708628b684",
     "locked": false,
     "points": 3,
     "schema_version": 3,
     "solution": true,
     "task": false
    }
   },
   "source": [
    "YOUR ANSWER HERE\n",
    "csv - is the library to read and write the comma seaprated values file\n",
    "datetime - is the library to get the current date and time\n",
    "math - this library gives access to mathemeatical function defined by C standard\n",
    "os - This library provides a way of using operating system dependent functinoality\n",
    "re - This module provides regular expression matching operations similar to those found in Perl\n",
    "string - Python string module contains a single utility function - capwords(s, sep=None). This function split the specified string into words using str. split().\n",
    "unittest - unittest provides a base class, TestCase , which may be used to create new test cases."
   ]
  },
  {
   "cell_type": "markdown",
   "id": "468d2538",
   "metadata": {
    "deletable": false,
    "editable": false,
    "nbgrader": {
     "cell_type": "markdown",
     "checksum": "4925e14d95e4b602c93f384a224e6015",
     "grade": false,
     "grade_id": "cell-56e32cad4a7a773f",
     "locked": true,
     "schema_version": 3,
     "solution": false,
     "task": false
    }
   },
   "source": [
    "Answer in the cell below.\n",
    "\n",
    "What is PyPI?"
   ]
  },
  {
   "cell_type": "markdown",
   "id": "b6640ceb",
   "metadata": {
    "deletable": false,
    "nbgrader": {
     "cell_type": "markdown",
     "checksum": "53e73b2030481e25a7840f6116955b9b",
     "grade": true,
     "grade_id": "cell-8356dde32ef2e195",
     "locked": false,
     "points": 1,
     "schema_version": 3,
     "solution": true,
     "task": false
    }
   },
   "source": [
    "YOUR ANSWER HERE\n",
    "The Python Package Index (PyPI) is a repository of software for the Python programming language.PyPI helps you find and install software developed and shared by the Python community."
   ]
  }
 ],
 "metadata": {
  "kernelspec": {
   "display_name": "Python 3 (ipykernel)",
   "language": "python",
   "name": "python3"
  },
  "language_info": {
   "codemirror_mode": {
    "name": "ipython",
    "version": 3
   },
   "file_extension": ".py",
   "mimetype": "text/x-python",
   "name": "python",
   "nbconvert_exporter": "python",
   "pygments_lexer": "ipython3",
   "version": "3.9.12"
  }
 },
 "nbformat": 4,
 "nbformat_minor": 5
}
